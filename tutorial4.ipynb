{
 "cells": [
  {
   "cell_type": "code",
   "execution_count": null,
   "metadata": {},
   "outputs": [],
   "source": [
    "True and False are constants\n",
    "\n",
    "Other values are treated as equivalent to either \n",
    "    True or False when used in conditionals:\n",
    "     . False: zero, None, empty containers\n",
    "     . True: non-zero numbers, non-empty objects\n",
    "     . See PEP 8 for the most Pythonic ways to compare\n",
    "Comparison operators: ==, !=, <, <=, etc.\n",
    "    X == Y\n",
    "        X and Y have same value (like Java equals method)\n",
    "    X is Y : \n",
    "        X and Y refer to the exact same object (like Java ==)"
   ]
  },
  {
   "cell_type": "code",
   "execution_count": null,
   "metadata": {},
   "outputs": [],
   "source": [
    "Logical Operators\n",
    " You can also combine Boolean expressions.\n",
    "     True if a is True and b is True: a and b\n",
    "     True if a is True or b is True: a or b\n",
    "     True if a is False: not a"
   ]
  },
  {
   "cell_type": "code",
   "execution_count": null,
   "metadata": {},
   "outputs": [],
   "source": [
    "Conditional Expressions\n",
    "x = true_value if condition else false_value\n",
    "\n",
    "lazy evaluation:\n",
    " First, condition is evaluated\n",
    " If True, true_value is evaluated and returned\n",
    " If False, false_value is evaluated and returned"
   ]
  }
 ],
 "metadata": {
  "language_info": {
   "name": "python"
  }
 },
 "nbformat": 4,
 "nbformat_minor": 2
}
